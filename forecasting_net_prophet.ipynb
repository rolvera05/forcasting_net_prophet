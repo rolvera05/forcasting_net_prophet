version https://git-lfs.github.com/spec/v1
oid sha256:d9f800ee92cf0fa8c1e14913527aa89625ffa5341a60904fc02d60f6439cba5a
size 76723312
